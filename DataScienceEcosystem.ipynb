{
 "cells": [
  {
   "cell_type": "markdown",
   "id": "d1bbcba5",
   "metadata": {},
   "source": [
    "# Data Science Tools and Ecosystem"
   ]
  },
  {
   "cell_type": "markdown",
   "id": "68f2971a",
   "metadata": {},
   "source": [
    "In this notebook, Data Science Tools and Ecosystem are summarized."
   ]
  },
  {
   "cell_type": "markdown",
   "id": "c65a99ab",
   "metadata": {},
   "source": [
    "# Objectives:\n",
    "* Types of languages used in data science.\n",
    "* Popular libraries used by data scientists.\n",
    "* Data science tools\n",
    "* Evualuating arithmatic expressions\n",
    "* How to convert hours into mintutes"
   ]
  },
  {
   "cell_type": "code",
   "execution_count": 6,
   "id": "19ccc763",
   "metadata": {},
   "outputs": [
    {
     "ename": "SyntaxError",
     "evalue": "invalid syntax (313400908.py, line 1)",
     "output_type": "error",
     "traceback": [
      "\u001b[1;36m  Cell \u001b[1;32mIn[6], line 1\u001b[1;36m\u001b[0m\n\u001b[1;33m    1. Python\u001b[0m\n\u001b[1;37m       ^\u001b[0m\n\u001b[1;31mSyntaxError\u001b[0m\u001b[1;31m:\u001b[0m invalid syntax\n"
     ]
    }
   ],
   "source": [
    "1. Python\n",
    "2. R\n",
    "3. C+"
   ]
  },
  {
   "cell_type": "markdown",
   "id": "5c09a219",
   "metadata": {},
   "source": [
    "# Some of the popular languages that Data Scientists use are:"
   ]
  },
  {
   "cell_type": "markdown",
   "id": "f0c56cd9",
   "metadata": {},
   "source": [
    "1. Python\n",
    "2. R\n",
    "3. C+"
   ]
  },
  {
   "cell_type": "code",
   "execution_count": 8,
   "id": "532ac1e2",
   "metadata": {},
   "outputs": [
    {
     "ename": "SyntaxError",
     "evalue": "invalid syntax (1296203114.py, line 1)",
     "output_type": "error",
     "traceback": [
      "\u001b[1;36m  Cell \u001b[1;32mIn[8], line 1\u001b[1;36m\u001b[0m\n\u001b[1;33m    |1.| Python|\u001b[0m\n\u001b[1;37m    ^\u001b[0m\n\u001b[1;31mSyntaxError\u001b[0m\u001b[1;31m:\u001b[0m invalid syntax\n"
     ]
    }
   ],
   "source": []
  },
  {
   "cell_type": "markdown",
   "id": "befa44f4",
   "metadata": {},
   "source": [
    "|1.| Python|\n",
    "|2.| R|\n",
    "|3.|C+|"
   ]
  },
  {
   "cell_type": "markdown",
   "id": "01b1ff74",
   "metadata": {},
   "source": [
    "# Some of the commonly used libraries used by Data Scientists include:"
   ]
  },
  {
   "cell_type": "markdown",
   "id": "dd9f6e8d",
   "metadata": {},
   "source": [
    "# 1. PANDAS\n",
    "# 2. Numpy\n",
    "# 3. Matlib"
   ]
  },
  {
   "cell_type": "markdown",
   "id": "af435d50",
   "metadata": {},
   "source": [
    "# Data Science Tools"
   ]
  },
  {
   "cell_type": "markdown",
   "id": "6fdb7617",
   "metadata": {},
   "source": [
    "1. Jupitor Notebook\n",
    "2. Apache Spark\n",
    "3. Tensorflow\n",
    "4. Excel"
   ]
  },
  {
   "cell_type": "markdown",
   "id": "fa2fb848",
   "metadata": {},
   "source": [
    "### Below are a few examples of evaluating arithmetic expressions in Python"
   ]
  },
  {
   "cell_type": "code",
   "execution_count": 1,
   "id": "03c2bd99",
   "metadata": {},
   "outputs": [
    {
     "data": {
      "text/plain": [
       "17"
      ]
     },
     "execution_count": 1,
     "metadata": {},
     "output_type": "execute_result"
    }
   ],
   "source": [
    "# This a simple arithmetic expression to mutiply then add integers.\n",
    "(3*4)+5"
   ]
  },
  {
   "cell_type": "code",
   "execution_count": 2,
   "id": "f9551ccb",
   "metadata": {},
   "outputs": [
    {
     "data": {
      "text/plain": [
       "3.3333333333333335"
      ]
     },
     "execution_count": 2,
     "metadata": {},
     "output_type": "execute_result"
    }
   ],
   "source": [
    "#This will convert 200 minutes to hours by diving by 60\n",
    "200/60"
   ]
  },
  {
   "cell_type": "markdown",
   "id": "edd7ac9c",
   "metadata": {},
   "source": [
    "## Author: M. ADNAN YOUNUS"
   ]
  },
  {
   "cell_type": "code",
   "execution_count": null,
   "id": "acc49ff0",
   "metadata": {},
   "outputs": [],
   "source": []
  }
 ],
 "metadata": {
  "kernelspec": {
   "display_name": "Python 3 (ipykernel)",
   "language": "python",
   "name": "python3"
  },
  "language_info": {
   "codemirror_mode": {
    "name": "ipython",
    "version": 3
   },
   "file_extension": ".py",
   "mimetype": "text/x-python",
   "name": "python",
   "nbconvert_exporter": "python",
   "pygments_lexer": "ipython3",
   "version": "3.11.3"
  }
 },
 "nbformat": 4,
 "nbformat_minor": 5
}
